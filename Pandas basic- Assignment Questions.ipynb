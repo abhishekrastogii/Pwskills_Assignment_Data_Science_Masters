{
 "cells": [
  {
   "cell_type": "markdown",
   "id": "e3329b94",
   "metadata": {},
   "source": [
    "Pandas basic- Assignment Questions"
   ]
  },
  {
   "cell_type": "code",
   "execution_count": null,
   "id": "db6f792c",
   "metadata": {},
   "outputs": [],
   "source": [
    "Q1. Create a Pandas Series that contains the following data: 4, 8, 15, 16, 23, and 42. Then, print the series.\n",
    "Q2. Create a variable of list type containing 10 elements in it, and apply pandas.Series function on the\n",
    "variable print it.\n",
    "Q3. Create a Pandas DataFrame that contains the following data:\n",
    "\n",
    "Then, print the DataFrame.\n",
    "Q4. What is ‘DataFrame’ in pandas and how is it different from pandas.series? Explain with an example.\n",
    "Q5. What are some common functions you can use to manipulate data in a Pandas DataFrame? Can\n",
    "you give an example of when you might use one of these functions?\n",
    "Q6. Which of the following is mutable in nature Series, DataFrame, Panel?\n",
    "Q7. Create a DataFrame using multiple Series. Explain with an example."
   ]
  },
  {
   "cell_type": "code",
   "execution_count": 1,
   "id": "8f055511",
   "metadata": {},
   "outputs": [
    {
     "name": "stdout",
     "output_type": "stream",
     "text": [
      "0     4\n",
      "1     8\n",
      "2    15\n",
      "3    16\n",
      "4    23\n",
      "5    42\n",
      "dtype: int32\n"
     ]
    }
   ],
   "source": [
    "# Q1. Create a Pandas Series that contains the following data: 4, 8, 15, 16, 23, and 42. Then, print the series.\n",
    "    \n",
    "# A1. \n",
    "# import pandas as pd\n",
    "import pandas as pd\n",
    "\n",
    "# import numpy as np\n",
    "import numpy as np\n",
    "\n",
    "# simple array\n",
    "data = np.array([4, 8, 15, 16, 23, 42])\n",
    "\n",
    "ser = pd.Series(data)\n",
    "print(ser)"
   ]
  },
  {
   "cell_type": "code",
   "execution_count": 2,
   "id": "d9309df3",
   "metadata": {},
   "outputs": [
    {
     "name": "stdout",
     "output_type": "stream",
     "text": [
      "0    1\n",
      "1    2\n",
      "2    3\n",
      "3    4\n",
      "4    5\n",
      "5    6\n",
      "6    7\n",
      "7    8\n",
      "8    9\n",
      "9    0\n",
      "dtype: int64\n"
     ]
    }
   ],
   "source": [
    "# Q2. Create a variable of list type containing 10 elements in it, and apply pandas.Series function on the\n",
    "# variable print it.\n",
    "\n",
    "# A2. \n",
    "\n",
    "import pandas as pd\n",
    " \n",
    "# a simple list\n",
    "list = [1,2,3,4,5,6,7,8,9,0]\n",
    " \n",
    "# create series form a list\n",
    "ser = pd.Series(list)\n",
    "print(ser)"
   ]
  },
  {
   "cell_type": "code",
   "execution_count": 4,
   "id": "827f317b",
   "metadata": {},
   "outputs": [
    {
     "name": "stdout",
     "output_type": "stream",
     "text": [
      "     name  age  gender\n",
      "0   alice   25  Female\n",
      "1     bob   30    Male\n",
      "2  claire   27  Female\n"
     ]
    }
   ],
   "source": [
    "# Q3. Create a Pandas DataFrame that contains the following data:\n",
    "\n",
    "# Then, print the DataFrame.\n",
    "\n",
    "# A3.\n",
    "\n",
    "# importing pandas as pd\n",
    "import pandas as pd\n",
    "\n",
    "# dictionary of lists\n",
    "dict = {'name':[\"alice\", \"bob\", \"claire\"],\n",
    "\t\t'age': [25,30,27],\n",
    "\t\t'gender':[\"Female\",\"Male\",\"Female\"]}\n",
    "\n",
    "df = pd.DataFrame(dict)\n",
    "\n",
    "print(df)\n"
   ]
  },
  {
   "cell_type": "code",
   "execution_count": null,
   "id": "c91ed268",
   "metadata": {},
   "outputs": [],
   "source": [
    "Q4. What is ‘DataFrame’ in pandas and how is it different from pandas.series? Explain with an example.\n",
    "\n",
    "A4. A Dataframe is a two-dimensional data structure, i.e., data is aligned in a tabular fashion in rows and columns.\n",
    "    In dataframe datasets arrange in rows and columns, we can store any number of datasets in a dataframe.\n",
    "    \n",
    "    We can perform many operations on these datasets like arithmetic operation, columns/rows selection, columns/rows \n",
    "    addition etc."
   ]
  },
  {
   "cell_type": "code",
   "execution_count": 5,
   "id": "da2f669f",
   "metadata": {},
   "outputs": [
    {
     "name": "stdout",
     "output_type": "stream",
     "text": [
      "Empty DataFrame\n",
      "Columns: []\n",
      "Index: []\n"
     ]
    }
   ],
   "source": [
    "# import pandas as pd\n",
    "import pandas as pd\n",
    "\n",
    "# Calling DataFrame constructor\n",
    "df = pd.DataFrame()\n",
    "\n",
    "print(df)"
   ]
  },
  {
   "cell_type": "code",
   "execution_count": null,
   "id": "3a36e21b",
   "metadata": {},
   "outputs": [],
   "source": [
    "Q5. What are some common functions you can use to manipulate data in a Pandas DataFrame? Can you give an example of when\n",
    "    you might use one of these functions?\n",
    "    \n",
    "A5. Common functions to manipulate data in a Pandas DataFrame include:\n",
    "        Dropping columns in the data\n",
    "        Dropping rows in the data\n",
    "        Renaming a column in the dataset\n",
    "        Selecting columns with specific data types\n",
    "        Slicing the dataset\n",
    "        Handling duplicates in the dataset\n",
    "        Selecting specific values in the column\n",
    "        Grouping by in DataFrame\n",
    "    An example of when you might use one of these functions is when you want to drop a column or row that is not relevant \n",
    "    to your analysis."
   ]
  },
  {
   "cell_type": "code",
   "execution_count": null,
   "id": "a08d5616",
   "metadata": {},
   "outputs": [],
   "source": [
    "Q6. Which of the following is mutable in nature Series, DataFrame, Panel?\n",
    "\n",
    "A6. Dimensions and Descriptions of Pandas Datastructure:-\n",
    "    \n",
    "        Series – 1D labeled homogeneous array, sizeimmutable\n",
    "        Data Frames – 2D labeled, size-mutable tabular structure with heterogenic columns\n",
    "        Panel – 3D labeled size mutable array."
   ]
  },
  {
   "cell_type": "code",
   "execution_count": 6,
   "id": "6ca6f444",
   "metadata": {},
   "outputs": [
    {
     "name": "stdout",
     "output_type": "stream",
     "text": [
      "         0      1     2\n",
      "0    Spark  22000  1000\n",
      "1  PySpark  25000  2300\n",
      "2   Hadoop  23000  1000\n"
     ]
    }
   ],
   "source": [
    "# Q7. Create a DataFrame using multiple Series. Explain with an example.\n",
    "\n",
    "# A7. \n",
    "\n",
    "import pandas as pd\n",
    "# Create pandas Series\n",
    "courses = pd.Series([\"Spark\",\"PySpark\",\"Hadoop\"])\n",
    "fees = pd.Series([22000,25000,23000])\n",
    "discount  = pd.Series([1000,2300,1000])\n",
    "\n",
    "# Combine two series.\n",
    "df=pd.concat([courses,fees],axis=1)\n",
    "\n",
    "# It also supports to combine multiple series.\n",
    "df=pd.concat([courses,fees,discount],axis=1)\n",
    "print(df)\n"
   ]
  },
  {
   "cell_type": "markdown",
   "id": "1521127e",
   "metadata": {},
   "source": [
    "# THANKYOU"
   ]
  }
 ],
 "metadata": {
  "kernelspec": {
   "display_name": "Python 3 (ipykernel)",
   "language": "python",
   "name": "python3"
  },
  "language_info": {
   "codemirror_mode": {
    "name": "ipython",
    "version": 3
   },
   "file_extension": ".py",
   "mimetype": "text/x-python",
   "name": "python",
   "nbconvert_exporter": "python",
   "pygments_lexer": "ipython3",
   "version": "3.10.9"
  }
 },
 "nbformat": 4,
 "nbformat_minor": 5
}
