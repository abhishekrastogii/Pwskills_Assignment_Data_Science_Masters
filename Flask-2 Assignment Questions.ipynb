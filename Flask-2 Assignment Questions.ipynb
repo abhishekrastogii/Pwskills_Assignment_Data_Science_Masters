{
 "cells": [
  {
   "cell_type": "markdown",
   "id": "a3918511",
   "metadata": {},
   "source": [
    "Flask-2 Assignment Questions"
   ]
  },
  {
   "cell_type": "code",
   "execution_count": null,
   "id": "c46ba168",
   "metadata": {},
   "outputs": [],
   "source": [
    "Q1. Explain GET and POST methods.\n",
    "\n",
    "Q2. Why is request used in Flask?\n",
    "\n",
    "Q3. Why is redirect() used in Flask?\n",
    "\n",
    "Q4. What are templates in Flask? Why is the render_template() function used?\n",
    "\n",
    "Q5. Create a simple API. Use Postman to test it. Attach the screenshot of the output in the Jupyter Notebook"
   ]
  },
  {
   "cell_type": "code",
   "execution_count": null,
   "id": "cc1daf98",
   "metadata": {},
   "outputs": [],
   "source": [
    "Q1. Explain GET and POST methods.\n",
    "\n",
    "A1. HTTP GET: The Hypertext Transfer Protocol(HTTP) Get method is mainly used at the client (Browser) side to send a request \n",
    "    to a specified server to get certain data or resources. Using this method the server should only let us receive the data\n",
    "    and not change its state. Hence it is only used to view something and not to change it. Get method is one of the most \n",
    "    used HTTP method. The request parameter of the get method is appended to the URL. Get request is better for the data\n",
    "    which does not need to be secure (It means the data which does not contain images or word documents).\n",
    "\n",
    "Example: In the following HTML code we have created a form with text field as Username and City. we have also included a PHP\n",
    "    file getmethod.php where our data would be sent after we click the submit button.\n",
    "\n",
    "<!DOCTYPE html>\n",
    "<html>\n",
    "  \n",
    "<body>\n",
    "    <form action=\"getmethod.php\" method=\"GET\">\n",
    "        Username: <input type=\"text\" \n",
    "            name=\"username\" /> <br>\n",
    "  \n",
    "        City: <input type=\"text\" \n",
    "            name=\"city\" /> <br>\n",
    "              \n",
    "        <input type=\"submit\" />\n",
    "    </form>\n",
    "</body>\n",
    "  \n",
    "</html>\n",
    "\n",
    "    HTTP POST: The Hypertext Transfer Protocol(HTTP) Post method is mainly used at the client (Browser) side to send data to a\n",
    "        Specified server in order to create or rewrite a particular resource/data. This data sent to the server is stored in \n",
    "        the request body of the HTTP request. Post method eventually leads to the creation of a new resource or updating an \n",
    "        existing one. Due to this dynamic use, it is one of the most used HTTP methods. It is not one of the most secure\n",
    "        methods because the data that is been sent is included in the body of the request and not in the URL. Post request is\n",
    "        better for the data which needs to be secure (It means the data which contains images or word documents).\n",
    "\n",
    "Example: In the following HTML code we have created a form with text field as Username and Area of study. we have also included\n",
    "    a PHP file postmethod.php, where our data would be sent after we click the submit button.\n",
    "\n",
    "<!DOCTYPE html>\n",
    "<html>\n",
    "  \n",
    "<body>\n",
    "    <form action=\"postmethod.php\" method=\"post\">\n",
    "        Username: <input type=\"text\" \n",
    "            name=\"username\" /> <br>\n",
    "  \n",
    "        Area of Study: <input \n",
    "            type=\"text\" name=\"area\" /> <br>\n",
    "  \n",
    "        <input type=\"submit\" />\n",
    "    </form>\n",
    "</body>\n",
    "  \n",
    "</html>"
   ]
  },
  {
   "cell_type": "code",
   "execution_count": null,
   "id": "a76810fc",
   "metadata": {},
   "outputs": [],
   "source": [
    "Q2. Why is request used in Flask?\n",
    "\n",
    "A2. In a Flask App, we have our own Webpage (Client) and a Server. The Server should process the data.  The Request, in Flask,\n",
    "    is an object that contains all the data sent from the Client to Server. This data can be recovered using the GET/POST \n",
    "    Methods."
   ]
  },
  {
   "cell_type": "code",
   "execution_count": null,
   "id": "1ea2fdc3",
   "metadata": {},
   "outputs": [],
   "source": [
    "Q3. Why is redirect() used in Flask?\n",
    "\n",
    "A3. The redirect function is used in Flask to tell your app which URL it should go to when a certain action is performed by an\n",
    "    end-user. It is also useful for managing URLs in your application. When called, the redirect function sends the user to a\n",
    "    particular URL with the status code, which identifies the issue. The redirect function is an essential part of web\n",
    "    applications and also increases the efficiency for an application."
   ]
  },
  {
   "cell_type": "code",
   "execution_count": null,
   "id": "845ad5d8",
   "metadata": {},
   "outputs": [],
   "source": [
    "Q4. What are templates in Flask? Why is the render_template() function used?\n",
    "\n",
    "A4. Templates are files that contain static data as well as placeholders for dynamic data. Flask uses the Jinja template \n",
    "    library to render templates. The render_template() function is used to render the external HTML file to be returned\n",
    "    as the response from the view function. The function takes the name of the template file as an argument and returns\n",
    "    the rendered HTML as a response"
   ]
  },
  {
   "cell_type": "code",
   "execution_count": null,
   "id": "a3b997b8",
   "metadata": {},
   "outputs": [],
   "source": [
    "Q5. Create a simple API. Use Postman to test it. Attach the screenshot of the output in the Jupyter Notebook\n",
    "\n",
    "A5. APIs(Application Programming Interfaces) are very commonly used in development. Postman is a tool that can be used for API Testing. In this article, we will learn how to do simple API Testing using Postman.\n",
    "\n",
    "      1  Go to your workspace in Postman.\n",
    "      2  Click on the + symbol to open a new tab.\n",
    "      3  Enter the API Endpoint where it says, “Enter request URL” and select the method (action type GET, POST, etc.) \n",
    "            for that request as shown below.\n",
    "      4  Click on the Send button."
   ]
  }
 ],
 "metadata": {
  "kernelspec": {
   "display_name": "Python 3 (ipykernel)",
   "language": "python",
   "name": "python3"
  },
  "language_info": {
   "codemirror_mode": {
    "name": "ipython",
    "version": 3
   },
   "file_extension": ".py",
   "mimetype": "text/x-python",
   "name": "python",
   "nbconvert_exporter": "python",
   "pygments_lexer": "ipython3",
   "version": "3.10.9"
  }
 },
 "nbformat": 4,
 "nbformat_minor": 5
}
