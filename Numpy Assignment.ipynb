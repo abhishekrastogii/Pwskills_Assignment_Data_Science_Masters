{
 "cells": [
  {
   "cell_type": "raw",
   "id": "3d496923-2e1c-4dc9-a0c6-4201409d5117",
   "metadata": {},
   "source": [
    "Consider the below code to answer further questions:\n",
    "import numpy as np\n",
    "list_ = [ ‘1’ , ’2’ , ‘3’ , ‘4’ , ‘5’ ]\n",
    "array_list = np.array(object = list_)"
   ]
  },
  {
   "cell_type": "markdown",
   "id": "7817fb75-e34d-4b26-a257-aca4a1e75b71",
   "metadata": {},
   "source": [
    "# ASSIGNMENT OF NUMPY"
   ]
  },
  {
   "cell_type": "raw",
   "id": "38fc64ee-9670-421c-8d87-f4490d108473",
   "metadata": {},
   "source": [
    "Q1. Is there any difference in the data type of variables list_ and array_list? If there is then write a code\n",
    "to print the data types of both the variables.\n",
    "\n",
    "A1. Yes there is a difference between the data types of both . The code to simulate the difference between both is given as :-"
   ]
  },
  {
   "cell_type": "code",
   "execution_count": 1,
   "id": "2ad8c8ce-67c6-41d1-9c4a-42dfedab926b",
   "metadata": {},
   "outputs": [],
   "source": [
    "import numpy as np"
   ]
  },
  {
   "cell_type": "code",
   "execution_count": 2,
   "id": "f93c0a21-6400-4733-9eb5-68dede23ee6e",
   "metadata": {},
   "outputs": [
    {
     "data": {
      "text/plain": [
       "list"
      ]
     },
     "execution_count": 2,
     "metadata": {},
     "output_type": "execute_result"
    }
   ],
   "source": [
    "list_ = ['1','2','3','4','5']\n",
    "array_list = np.array(object = list_)\n",
    "type(list_)"
   ]
  },
  {
   "cell_type": "code",
   "execution_count": 3,
   "id": "ab6fbfc5-3b16-4ec3-8d00-433217d0bc71",
   "metadata": {},
   "outputs": [
    {
     "data": {
      "text/plain": [
       "numpy.ndarray"
      ]
     },
     "execution_count": 3,
     "metadata": {},
     "output_type": "execute_result"
    }
   ],
   "source": [
    "type(array_list)"
   ]
  },
  {
   "cell_type": "raw",
   "id": "1d57fa63-e12c-4ef6-bbfd-62bd8912f08d",
   "metadata": {},
   "source": [
    "Q2. Write a code to print the data type of each and every element of both the variables list_ and array_list.\n",
    "\n",
    "A2. "
   ]
  },
  {
   "cell_type": "code",
   "execution_count": 4,
   "id": "c2e51891-66a0-4eaf-ab37-e1a2b0f2b01c",
   "metadata": {},
   "outputs": [
    {
     "name": "stdout",
     "output_type": "stream",
     "text": [
      "<class 'str'>\n",
      "<class 'str'>\n",
      "<class 'str'>\n",
      "<class 'str'>\n",
      "<class 'str'>\n"
     ]
    }
   ],
   "source": [
    "for i in list_:\n",
    "    print(type(i))"
   ]
  },
  {
   "cell_type": "code",
   "execution_count": 5,
   "id": "29daafa7-71ce-4ef5-ab71-0a78ce51e347",
   "metadata": {},
   "outputs": [
    {
     "name": "stdout",
     "output_type": "stream",
     "text": [
      "<class 'numpy.str_'>\n",
      "<class 'numpy.str_'>\n",
      "<class 'numpy.str_'>\n",
      "<class 'numpy.str_'>\n",
      "<class 'numpy.str_'>\n"
     ]
    }
   ],
   "source": [
    "for i in array_list:\n",
    "    print(type(i))"
   ]
  },
  {
   "cell_type": "raw",
   "id": "c3800b65-fe2e-4d43-9fda-85a80eb6ee39",
   "metadata": {},
   "source": [
    "Q3. Considering the following changes in the variable, array_list:\n",
    "array_list = np.array(object = list_, dtype = int)\n",
    "Will there be any difference in the data type of the elements present in both the variables, list_ and\n",
    "arra_list? If so then print the data types of each and every element present in both the variables, list_\n",
    "and array_list.\n",
    "Consider the below code to answer further questions:\n",
    "import numpy as np\n",
    "num_list = [ [ 1 , 2 , 3 ] , [ 4 , 5 , 6 ] ]\n",
    "num_array = np.array(object = num_list)\n",
    "\n",
    "A3:- Yes There will be difference in datatypes of elements present in both lists.\n",
    "List elements will have data type string and array_list will have datatype numpy integer\n",
    "Below is code for showing same"
   ]
  },
  {
   "cell_type": "code",
   "execution_count": 8,
   "id": "2ec86d48-de51-4ebf-8096-046913b5f7e8",
   "metadata": {},
   "outputs": [
    {
     "name": "stdout",
     "output_type": "stream",
     "text": [
      "Element value : 1, datatype = <class 'str'>\n",
      "Element value : 2, datatype = <class 'str'>\n",
      "Element value : 3, datatype = <class 'str'>\n",
      "Element value : 4, datatype = <class 'str'>\n",
      "Element value : 5, datatype = <class 'str'>\n"
     ]
    }
   ],
   "source": [
    "# Printing data types of each and every element in list_:\n",
    "for i in list_:\n",
    "    print(f'Element value : {i}, datatype = {type(i)}')"
   ]
  },
  {
   "cell_type": "code",
   "execution_count": 9,
   "id": "9a05efa5-514c-441c-af16-186881ecd1f7",
   "metadata": {},
   "outputs": [
    {
     "name": "stdout",
     "output_type": "stream",
     "text": [
      "Element value : 1, datatype = <class 'numpy.int64'>\n",
      "Element value : 2, datatype = <class 'numpy.int64'>\n",
      "Element value : 3, datatype = <class 'numpy.int64'>\n",
      "Element value : 4, datatype = <class 'numpy.int64'>\n",
      "Element value : 5, datatype = <class 'numpy.int64'>\n"
     ]
    }
   ],
   "source": [
    "# Printing data types of each and every element in modified array_list\n",
    "for i in array_list:\n",
    "    print(f'Element value : {i}, datatype = {type(i)}')"
   ]
  },
  {
   "cell_type": "code",
   "execution_count": 10,
   "id": "39ebe465-1888-4a1d-8046-e05dd5111dea",
   "metadata": {},
   "outputs": [],
   "source": [
    "import numpy as np\n",
    "\n",
    "num_list = [ [ 1 , 2 , 3 ] , [ 4 , 5 , 6 ] ]\n",
    "\n",
    "num_array = np.array(object = num_list)"
   ]
  },
  {
   "cell_type": "code",
   "execution_count": 11,
   "id": "e9428231-58f9-4ed6-b776-568e15aef175",
   "metadata": {},
   "outputs": [
    {
     "data": {
      "text/plain": [
       "array([[1, 2, 3],\n",
       "       [4, 5, 6]])"
      ]
     },
     "execution_count": 11,
     "metadata": {},
     "output_type": "execute_result"
    }
   ],
   "source": [
    "# Viewing num_array\n",
    "num_array"
   ]
  },
  {
   "cell_type": "raw",
   "id": "cf9b0b17-8225-4462-8995-3a1d4a37ebbd",
   "metadata": {},
   "source": [
    "Q4. Write a code to find the following characteristics of variable, num_array:\n",
    "(i) shape\n",
    "(ii) size\n",
    "\n",
    "A4:- "
   ]
  },
  {
   "cell_type": "code",
   "execution_count": 12,
   "id": "f898cbce-b98c-4f7d-83fd-1130fb946c75",
   "metadata": {},
   "outputs": [
    {
     "data": {
      "text/plain": [
       "(2, 3)"
      ]
     },
     "execution_count": 12,
     "metadata": {},
     "output_type": "execute_result"
    }
   ],
   "source": [
    "# Showing num_array shape\n",
    "num_array.shape"
   ]
  },
  {
   "cell_type": "code",
   "execution_count": 13,
   "id": "853d7dc7-eda2-4aea-81bf-727cbbea4fab",
   "metadata": {},
   "outputs": [
    {
     "data": {
      "text/plain": [
       "6"
      ]
     },
     "execution_count": 13,
     "metadata": {},
     "output_type": "execute_result"
    }
   ],
   "source": [
    "# Showing num_array size\n",
    "num_array.size"
   ]
  },
  {
   "cell_type": "raw",
   "id": "396965b1-8b18-4ae3-9b08-4c578f86010f",
   "metadata": {},
   "source": [
    "Q5. Write a code to create numpy array of 3*3 matrix containing zeros only, using a numpy array\n",
    "creation function.\n",
    "\n",
    "A5"
   ]
  },
  {
   "cell_type": "code",
   "execution_count": 14,
   "id": "602a8360-e5ff-4275-85eb-953e693e9dd9",
   "metadata": {},
   "outputs": [],
   "source": [
    "## Using np.zeros to create a 3X3 matrix containing zeros\n",
    "arr5 = np.zeros((3,3))"
   ]
  },
  {
   "cell_type": "code",
   "execution_count": 15,
   "id": "c1cb828d-8aed-4037-963c-2a7e2b40b56d",
   "metadata": {},
   "outputs": [
    {
     "data": {
      "text/plain": [
       "array([[0., 0., 0.],\n",
       "       [0., 0., 0.],\n",
       "       [0., 0., 0.]])"
      ]
     },
     "execution_count": 15,
     "metadata": {},
     "output_type": "execute_result"
    }
   ],
   "source": [
    "arr5"
   ]
  },
  {
   "cell_type": "code",
   "execution_count": 16,
   "id": "efa89e5e-dedb-4f8a-8b19-31d660b76bf1",
   "metadata": {},
   "outputs": [
    {
     "name": "stdout",
     "output_type": "stream",
     "text": [
      "Size of arr5 is 9\n",
      "Shape of arr5 is (3, 3)\n"
     ]
    }
   ],
   "source": [
    "# Verifying Matrix size and shape\n",
    "print(f'Size of arr5 is {arr5.size}')\n",
    "print(f'Shape of arr5 is {arr5.shape}')"
   ]
  },
  {
   "cell_type": "raw",
   "id": "18da82b9-627c-47f5-9af1-66e09d0294bd",
   "metadata": {},
   "source": [
    "Q6. Create an identity matrix of shape (5,5) using numpy functions?\n",
    "[Hint: An identity matrix is a matrix containing 1 diagonally and other elements will be 0.]\n",
    "\n",
    "A6:- "
   ]
  },
  {
   "cell_type": "code",
   "execution_count": null,
   "id": "c014f5e4-d942-452d-a411-2e7d95de329d",
   "metadata": {},
   "outputs": [],
   "source": []
  }
 ],
 "metadata": {
  "kernelspec": {
   "display_name": "Python 3 (ipykernel)",
   "language": "python",
   "name": "python3"
  },
  "language_info": {
   "codemirror_mode": {
    "name": "ipython",
    "version": 3
   },
   "file_extension": ".py",
   "mimetype": "text/x-python",
   "name": "python",
   "nbconvert_exporter": "python",
   "pygments_lexer": "ipython3",
   "version": "3.10.8"
  }
 },
 "nbformat": 4,
 "nbformat_minor": 5
}
