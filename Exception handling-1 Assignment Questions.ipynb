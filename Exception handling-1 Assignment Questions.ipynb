{
 "cells": [
  {
   "cell_type": "markdown",
   "id": "f11c6f4d",
   "metadata": {},
   "source": [
    "Exception handling-1\n",
    "Assignment Questions"
   ]
  },
  {
   "cell_type": "code",
   "execution_count": null,
   "id": "4d425441",
   "metadata": {},
   "outputs": [],
   "source": [
    "Q1. what is an exception in python ? Write the difference between exceptions and syntax errors.\n",
    "\n",
    "A1. An Exception in Python is raised when some internal events occur which change the normal flow of the program.\n",
    "    The difference between Exceptions and syntax errors is that:\n",
    "       1 Syntax errors are problems in a program due to which the program will stop the execution.\n",
    "       2 Exceptions are raised when an attempt is made to execute a statement or expression that is syntactically correct,\n",
    "            but causes an error during execution.\n",
    "       3 Exceptions come in different types, and the type is printed as part of the message."
   ]
  },
  {
   "cell_type": "code",
   "execution_count": null,
   "id": "d3c5e2a6",
   "metadata": {},
   "outputs": [],
   "source": [
    "Q2. What happened when an exception is not handled ? Explain with  an example.\n",
    "\n",
    "A2. If an exception is not handled in a program, the program terminates abruptly and the code past the line that caused\n",
    "    the exception will not get executed. To handle exceptions, you can use a try-catch block or throw them using the \n",
    "    throws keyword. If no exception handler for a given exception is present, the program stops executing with an error \n",
    "    message. If an exception is not caught, the runtime system will abort the program and an exception error will crash\n",
    "    the program."
   ]
  },
  {
   "cell_type": "code",
   "execution_count": null,
   "id": "8c35ec10",
   "metadata": {},
   "outputs": [],
   "source": [
    "Q3. Which python statement are used to catch and handle exception explain with an example ?\n",
    "\n",
    "A3. Try and except statements are used to catch and handle exceptions in Python. The statements that can raise exceptions \n",
    "    are kept inside the try clause and the statements that handle the exception are written inside except clause.\n",
    "    Other statements used to handle exceptions in Python include:\n",
    "        try/finally: Whether exception occurs or not, it automatically performs the clean-up action.\n",
    "        assert: triggers an exception conditionally in the code.\n",
    "        raise: manually triggers an exception in the code.\n",
    "        with/as: implement context managers in older versions of Python such as - Python 2.6 & Python 3.0."
   ]
  },
  {
   "cell_type": "code",
   "execution_count": null,
   "id": "6789afdf",
   "metadata": {},
   "outputs": [],
   "source": [
    "Q4. Explain with an example:\n",
    "    a. try and else \n",
    "    b. finally\n",
    "    c. raise\n",
    "    \n",
    "A4. Try: This block will test the excepted error to occur\n",
    "    Else: If there is no exception then this block will be executed\n",
    "    Finally: Finally block always gets executed either exception is generated or not\n",
    "\n",
    "        try:\n",
    "               # Some Code.... \n",
    "\n",
    "        except:\n",
    "               # optional block\n",
    "               # Handling of exception (if required)\n",
    "\n",
    "        else:\n",
    "               # execute if no exception\n",
    "\n",
    "        finally:\n",
    "              # Some code .....(always executed)"
   ]
  },
  {
   "cell_type": "code",
   "execution_count": 3,
   "id": "186d95de",
   "metadata": {},
   "outputs": [
    {
     "name": "stdout",
     "output_type": "stream",
     "text": [
      "Yeah ! Your answer is : 1\n",
      "This is always executed\n",
      "Sorry ! You are dividing by zero \n",
      "This is always executed\n"
     ]
    }
   ],
   "source": [
    "# Example to illustrate try, else and finally\n",
    "def divide(x, y):\n",
    "    try:\n",
    "        # Floor Division : Gives only Fractional\n",
    "        # Part as Answer\n",
    "        result = x // y\n",
    "    except ZeroDivisionError:\n",
    "        print(\"Sorry ! You are dividing by zero \")\n",
    "    else:\n",
    "        print(\"Yeah ! Your answer is :\", result)\n",
    "    finally: \n",
    "        # this block is always executed  \n",
    "        # regardless of exception generation. \n",
    "        print('This is always executed')  \n",
    " \n",
    "# Look at parameters and note the working of Program\n",
    "divide(3, 2)\n",
    "divide(3, 0)"
   ]
  },
  {
   "cell_type": "code",
   "execution_count": 7,
   "id": "33c98dd4",
   "metadata": {},
   "outputs": [
    {
     "ename": "RuntimeError",
     "evalue": "A parsing error occurred",
     "output_type": "error",
     "traceback": [
      "\u001b[1;31m---------------------------------------------------------------------------\u001b[0m",
      "\u001b[1;31mValueError\u001b[0m                                Traceback (most recent call last)",
      "Cell \u001b[1;32mIn[7], line 8\u001b[0m, in \u001b[0;36mexample\u001b[1;34m()\u001b[0m\n\u001b[0;32m      7\u001b[0m \u001b[38;5;28;01mtry\u001b[39;00m:\n\u001b[1;32m----> 8\u001b[0m     \u001b[38;5;28;43mint\u001b[39;49m\u001b[43m(\u001b[49m\u001b[38;5;124;43m'\u001b[39;49m\u001b[38;5;124;43mN/A\u001b[39;49m\u001b[38;5;124;43m'\u001b[39;49m\u001b[43m)\u001b[49m\n\u001b[0;32m      9\u001b[0m \u001b[38;5;28;01mexcept\u001b[39;00m \u001b[38;5;167;01mValueError\u001b[39;00m \u001b[38;5;28;01mas\u001b[39;00m e:\n",
      "\u001b[1;31mValueError\u001b[0m: invalid literal for int() with base 10: 'N/A'",
      "\nThe above exception was the direct cause of the following exception:\n",
      "\u001b[1;31mRuntimeError\u001b[0m                              Traceback (most recent call last)",
      "Cell \u001b[1;32mIn[7], line 12\u001b[0m\n\u001b[0;32m      9\u001b[0m     \u001b[38;5;28;01mexcept\u001b[39;00m \u001b[38;5;167;01mValueError\u001b[39;00m \u001b[38;5;28;01mas\u001b[39;00m e:\n\u001b[0;32m     10\u001b[0m         \u001b[38;5;28;01mraise\u001b[39;00m \u001b[38;5;167;01mRuntimeError\u001b[39;00m(\u001b[38;5;124m'\u001b[39m\u001b[38;5;124mA parsing error occurred\u001b[39m\u001b[38;5;124m'\u001b[39m) \u001b[38;5;28;01mfrom\u001b[39;00m \u001b[38;5;21;01me\u001b[39;00m\n\u001b[1;32m---> 12\u001b[0m \u001b[43mexample\u001b[49m\u001b[43m(\u001b[49m\u001b[43m)\u001b[49m\n",
      "Cell \u001b[1;32mIn[7], line 10\u001b[0m, in \u001b[0;36mexample\u001b[1;34m()\u001b[0m\n\u001b[0;32m      8\u001b[0m     \u001b[38;5;28mint\u001b[39m(\u001b[38;5;124m'\u001b[39m\u001b[38;5;124mN/A\u001b[39m\u001b[38;5;124m'\u001b[39m)\n\u001b[0;32m      9\u001b[0m \u001b[38;5;28;01mexcept\u001b[39;00m \u001b[38;5;167;01mValueError\u001b[39;00m \u001b[38;5;28;01mas\u001b[39;00m e:\n\u001b[1;32m---> 10\u001b[0m     \u001b[38;5;28;01mraise\u001b[39;00m \u001b[38;5;167;01mRuntimeError\u001b[39;00m(\u001b[38;5;124m'\u001b[39m\u001b[38;5;124mA parsing error occurred\u001b[39m\u001b[38;5;124m'\u001b[39m) \u001b[38;5;28;01mfrom\u001b[39;00m \u001b[38;5;21;01me\u001b[39;00m\n",
      "\u001b[1;31mRuntimeError\u001b[0m: A parsing error occurred"
     ]
    }
   ],
   "source": [
    "# c. raise :\n",
    "#     To chain exceptions, use the raise from statement instead of a simple raise statement.\n",
    "#     This will give you information about both errors.\n",
    "\n",
    "\n",
    "def example():\n",
    "    try:\n",
    "        int('N/A')\n",
    "    except ValueError as e:\n",
    "        raise RuntimeError('A parsing error occurred') from e\n",
    "        \n",
    "example()"
   ]
  },
  {
   "cell_type": "code",
   "execution_count": 8,
   "id": "04804714",
   "metadata": {},
   "outputs": [
    {
     "ename": "SyntaxError",
     "evalue": "invalid syntax (3303549981.py, line 1)",
     "output_type": "error",
     "traceback": [
      "\u001b[1;36m  Cell \u001b[1;32mIn[8], line 1\u001b[1;36m\u001b[0m\n\u001b[1;33m    Both exceptions are captured in the traceback. A normal except statement is used to catch such an exception.\u001b[0m\n\u001b[1;37m         ^\u001b[0m\n\u001b[1;31mSyntaxError\u001b[0m\u001b[1;31m:\u001b[0m invalid syntax\n"
     ]
    }
   ],
   "source": [
    "Both exceptions are captured in the traceback. A normal except statement is used to catch such an exception.\n",
    "However, __cause__ attribute of the exception object can be looked to follow the exception chain as explained \n",
    "in the code given below.\n",
    "\n",
    "Code #2 :\n",
    "\n",
    "try:\n",
    "    example()\n",
    "except RuntimeError as e:\n",
    "    print(\"It didn't work:\", e)\n",
    "    if e.__cause__:\n",
    "        print('Cause:', e.__cause__)"
   ]
  },
  {
   "cell_type": "code",
   "execution_count": null,
   "id": "79577a92",
   "metadata": {},
   "outputs": [],
   "source": [
    "Q5. What are Custom Exceptions in python? Why do we need Custom Exceptions? Explain with an example.\n",
    "\n",
    "A5. exceptions are just regular classes that inherit from the Exception class. This makes it super easy to create our\n",
    "    own custom exceptions, which can make our programs easier to follow and more readable. \n",
    "    An exception need not be complicated, just inherit from Exception:"
   ]
  },
  {
   "cell_type": "code",
   "execution_count": 9,
   "id": "279b69bf",
   "metadata": {},
   "outputs": [
    {
     "ename": "MyCustomException",
     "evalue": "",
     "output_type": "error",
     "traceback": [
      "\u001b[1;31m---------------------------------------------------------------------------\u001b[0m",
      "\u001b[1;31mMyCustomException\u001b[0m                         Traceback (most recent call last)",
      "Cell \u001b[1;32mIn[9], line 3\u001b[0m\n\u001b[0;32m      1\u001b[0m \u001b[38;5;28;01mclass\u001b[39;00m \u001b[38;5;21;01mMyCustomException\u001b[39;00m(\u001b[38;5;167;01mException\u001b[39;00m):\n\u001b[0;32m      2\u001b[0m      \u001b[38;5;28;01mpass\u001b[39;00m\n\u001b[1;32m----> 3\u001b[0m \u001b[38;5;28;01mraise\u001b[39;00m MyCustomException()\n",
      "\u001b[1;31mMyCustomException\u001b[0m: "
     ]
    }
   ],
   "source": [
    "class MyCustomException(Exception):\n",
    "     pass\n",
    "raise MyCustomException()"
   ]
  },
  {
   "cell_type": "code",
   "execution_count": null,
   "id": "ab46120c",
   "metadata": {},
   "outputs": [],
   "source": [
    "Having custom exceptions - tailored to your specific use cases and that you can raise and catch in specific circumstances\n",
    "- can make your code much more readable and robust, and reduce the amount of code you write later to try and figure out\n",
    "what exactly went wrong.\n",
    "\n",
    "Of course, you can get as fancy as you want. You can send additional information, like messages, to your exceptions.\n",
    "Just add an __init__() method to your exception class, with whatever arguments you want."
   ]
  },
  {
   "cell_type": "code",
   "execution_count": 10,
   "id": "d8f13d87",
   "metadata": {},
   "outputs": [
    {
     "ename": "IncorrectValueError",
     "evalue": "Got an incorrect value of 9999",
     "output_type": "error",
     "traceback": [
      "\u001b[1;31m---------------------------------------------------------------------------\u001b[0m",
      "\u001b[1;31mIncorrectValueError\u001b[0m                       Traceback (most recent call last)",
      "Cell \u001b[1;32mIn[10], line 8\u001b[0m\n\u001b[0;32m      6\u001b[0m my_value \u001b[38;5;241m=\u001b[39m \u001b[38;5;241m9999\u001b[39m\n\u001b[0;32m      7\u001b[0m \u001b[38;5;28;01mif\u001b[39;00m my_value \u001b[38;5;241m>\u001b[39m \u001b[38;5;241m100\u001b[39m:\n\u001b[1;32m----> 8\u001b[0m     \u001b[38;5;28;01mraise\u001b[39;00m IncorrectValueError(my_value)\n",
      "\u001b[1;31mIncorrectValueError\u001b[0m: Got an incorrect value of 9999"
     ]
    }
   ],
   "source": [
    "#Q6. Create a custom exception class. Use this class to handle an exception.\n",
    "#A6. \n",
    "class IncorrectValueError(Exception):\n",
    "    def __init__(self, value):\n",
    "        message = f\"Got an incorrect value of {value}\"\n",
    "        super().__init__(message)\n",
    "        \n",
    "my_value = 9999\n",
    "if my_value > 100:\n",
    "    raise IncorrectValueError(my_value)"
   ]
  },
  {
   "cell_type": "markdown",
   "id": "16eac103",
   "metadata": {},
   "source": [
    "# THANKYOU"
   ]
  }
 ],
 "metadata": {
  "kernelspec": {
   "display_name": "Python 3 (ipykernel)",
   "language": "python",
   "name": "python3"
  },
  "language_info": {
   "codemirror_mode": {
    "name": "ipython",
    "version": 3
   },
   "file_extension": ".py",
   "mimetype": "text/x-python",
   "name": "python",
   "nbconvert_exporter": "python",
   "pygments_lexer": "ipython3",
   "version": "3.10.9"
  }
 },
 "nbformat": 4,
 "nbformat_minor": 5
}
