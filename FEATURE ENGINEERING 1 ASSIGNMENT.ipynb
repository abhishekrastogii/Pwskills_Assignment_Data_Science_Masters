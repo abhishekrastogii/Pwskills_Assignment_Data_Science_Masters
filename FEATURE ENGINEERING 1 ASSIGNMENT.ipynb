{
 "cells": [
  {
   "cell_type": "markdown",
   "id": "f92e664d-d441-4a43-8b16-ffcedb17f6a2",
   "metadata": {},
   "source": [
    "## FE\n",
    "\n",
    "Q1. What is the Filter Method in Feature Selection, and How Does It Work?\n",
    "\n",
    "The Filter method is a feature selection technique that relies on statistical measures to assess the relevance of features independently of any machine learning algorithm. It filters out irrelevant or redundant features before the model training begins. Common metrics used in the filter method include correlation coefficients, chi-square tests, and mutual information. It ranks the features based on these criteria and selects the top-ranked ones to improve model performance and reduce complexity.\n",
    "\n",
    "Q2. How Does the Wrapper Method Differ from the Filter Method in Feature Selection?\n",
    "\n",
    "The Wrapper method evaluates feature subsets based on their performance with a specific machine learning algorithm, unlike the Filter method, which relies on statistical measures. The Wrapper method tests various combinations of features and selects the subset that maximizes model performance. It tends to give better results than the Filter method, but it is computationally expensive because it repeatedly trains the model on different subsets of features.\n",
    "\n",
    "Q3. What Are Some Common Techniques Used in Embedded Feature Selection Methods?\n",
    "\n",
    "Embedded methods perform feature selection during the model training process. Some common techniques include:\n",
    "\n",
    "Lasso (L1 regularization): Penalizes the absolute size of the coefficients, driving some to zero, effectively eliminating less important features.\n",
    "Ridge (L2 regularization): Penalizes the squared magnitude of coefficients, reducing less relevant features' influence without eliminating them.\n",
    "Decision Trees/Random Forests: The importance of features is determined based on how they contribute to reducing impurity at each split.\n",
    "ElasticNet: Combines L1 and L2 regularization for selecting features.\n",
    "\n",
    "Q4. What Are Some Drawbacks of Using the Filter Method for Feature Selection?\n",
    "\n",
    "Ignores feature interactions: The Filter method evaluates each feature independently, which means it may miss combinations of features that are useful when combined.\n",
    "Less accurate: Since the method doesn’t involve the machine learning algorithm itself, the selected features might not be optimal for model performance.\n",
    "Bias towards simple metrics: It relies on simplistic measures like correlation or variance, which may not always capture the full complexity of the data.\n",
    "\n",
    "Q5. In Which Situations Would You Prefer Using the Filter Method Over the Wrapper Method for Feature Selection?\n",
    "\n",
    "Large datasets with many features: The Filter method is computationally efficient, making it more suitable when the dataset has a high dimensionality.\n",
    "Quick preliminary analysis: It is useful in the early stages of the analysis when you need to reduce the number of features quickly.\n",
    "When interpretability is important: The Filter method ranks features based on simple statistics, making it easier to explain why certain features were selected or discarded.\n",
    "\n",
    "Q6. How Would You Choose the Most Pertinent Attributes for a Predictive Model Using the Filter Method in a Telecom Company?\n",
    "\n",
    "In a telecom company working on customer churn prediction, the dataset may contain several features like call duration, customer complaints, and payment history. To select the most relevant features using the Filter method:\n",
    "\n",
    "Correlation Matrix: Calculate the correlation of each feature with the target variable (churn). Choose features that are highly correlated with churn but uncorrelated with each other.\n",
    "Chi-square Test: If the target variable is categorical, use the chi-square test to determine which features are statistically significant.\n",
    "Mutual Information: Compute the mutual information score between each feature and the target variable to assess how much information each feature contributes.\n",
    "Variance Threshold: Eliminate low-variance features that don’t carry much information.\n",
    "\n",
    "Q7. How Would You Use the Embedded Method to Select Features for Predicting the Outcome of a Soccer Match?\n",
    "\n",
    "For predicting soccer match outcomes, you can use the Embedded method to select features while training the model:\n",
    "\n",
    "Regularization (Lasso): Use Lasso regression to train the model, as it will automatically shrink less important feature coefficients to zero, effectively performing feature selection.\n",
    "Tree-Based Methods (Random Forest): Train a Random Forest model and use the feature importance scores it provides to rank the relevance of each feature (e.g., player stats, team rankings).\n",
    "Cross-validation: Use cross-validation to ensure that the feature selection process generalizes well to unseen data and avoids overfitting.\n",
    "\n",
    "Q8. How Would You Use the Wrapper Method to Select Features for Predicting House Prices?\n",
    "\n",
    "For predicting house prices, you can use the Wrapper method as follows:\n",
    "\n",
    "Define the model: Select a predictive model, like linear regression or a decision tree, to evaluate feature subsets.\n",
    "Sequential Feature Selection: Start by evaluating models using different subsets of features, adding or removing one feature at a time based on performance (e.g., forward selection or backward elimination).\n",
    "Cross-validation: Use cross-validation to test how different feature subsets perform and select the one that provides the best accuracy and generalization ability.\n",
    "Iterate: Repeatedly evaluate feature subsets until you find the optimal set that minimizes prediction error and maximizes model performance."
   ]
  }
 ],
 "metadata": {
  "kernelspec": {
   "display_name": "Python 3 (ipykernel)",
   "language": "python",
   "name": "python3"
  },
  "language_info": {
   "codemirror_mode": {
    "name": "ipython",
    "version": 3
   },
   "file_extension": ".py",
   "mimetype": "text/x-python",
   "name": "python",
   "nbconvert_exporter": "python",
   "pygments_lexer": "ipython3",
   "version": "3.12.4"
  }
 },
 "nbformat": 4,
 "nbformat_minor": 5
}
