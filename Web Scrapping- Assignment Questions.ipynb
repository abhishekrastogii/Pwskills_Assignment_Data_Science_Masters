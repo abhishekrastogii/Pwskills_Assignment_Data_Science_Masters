{
 "cells": [
  {
   "cell_type": "markdown",
   "id": "fc0bb7ba",
   "metadata": {},
   "source": [
    "Web Scrapping- Assignment Questions"
   ]
  },
  {
   "cell_type": "code",
   "execution_count": null,
   "id": "6b1e0a52",
   "metadata": {},
   "outputs": [],
   "source": [
    "Q1. What is Web Scraping? Why is it Used? Give three areas where Web Scraping is used to get data.\n",
    "Q2. What are the different methods used for Web Scraping?\n",
    "Q3. What is Beautiful Soup? Why is it used?\n",
    "Q4. Why is flask used in this Web Scraping project?\n",
    "Q5. Write the names of AWS services used in this project. Also, explain the use of each service."
   ]
  },
  {
   "cell_type": "code",
   "execution_count": null,
   "id": "06c1fed9",
   "metadata": {},
   "outputs": [],
   "source": [
    "Q1. What is Web Scraping? Why is it Used? Give three areas where Web Scraping is used to get data.\n",
    "\n",
    "A1. Web scraping is the process of collecting structured web data in an automated manner. People primarily use web scraping\n",
    "    for obtaining and organizing data for various purposes. Some of the areas where web scraping is used to get data are:\n",
    "        \n",
    "       1 Price monitoring and intelligence\n",
    "       2 News monitoring and analysis\n",
    "       3 Real estate data and market trends"
   ]
  },
  {
   "cell_type": "code",
   "execution_count": null,
   "id": "3e084aed",
   "metadata": {},
   "outputs": [],
   "source": [
    "Q2. What are the different methods used for Web Scraping?\n",
    "\n",
    "A2. Different methods used for Web Scraping include:-\n",
    "      \n",
    "      1  Human copy-and-paste\n",
    "      2  Text pattern matching\n",
    "      3  HTTP programming\n",
    "      4  HTML parsing\n",
    "      5  DOM parsing\n",
    "      6  Vertical aggregation\n",
    "      7  Using online services, particular API’s or even creating your code for web scraping from scratch.\n",
    "      8  Using API’s provided by large websites like Google, Twitter, Facebook, StackOverflow, etc."
   ]
  },
  {
   "cell_type": "code",
   "execution_count": null,
   "id": "c9b94461",
   "metadata": {},
   "outputs": [],
   "source": [
    "Q3. What is Beautiful Soup? Why is it used?\n",
    "\n",
    "A3. Beautiful Soup is a Python library that makes it easy to scrape information from web pages. It is used for parsing \n",
    "    HTML and XML documents. Beautiful Soup sits atop an HTML or XML parser and provides Pythonic idioms for iterating,\n",
    "    searching, and modifying the parse tree. It helps with isolating titles and links from webpages. Beautiful Soup \n",
    "    helps you pull particular content from a webpage, remove the HTML markup, and save the information."
   ]
  },
  {
   "cell_type": "code",
   "execution_count": null,
   "id": "7bc2ae88",
   "metadata": {},
   "outputs": [],
   "source": [
    "Q4. Why is flask used in this Web Scraping project?\n",
    "\n",
    "A4. Flask is a lightweight framework to build websites. It is used in this web scraping project to parse the collected data\n",
    "    and display it as HTML in a new HTML file. The requests module is also used to send http requests to the website that is\n",
    "    being scraped."
   ]
  },
  {
   "cell_type": "code",
   "execution_count": null,
   "id": "5afdd2ef",
   "metadata": {},
   "outputs": [],
   "source": [
    "Q5. Write the names of AWS services used in this project. Also, explain the use of each service.\n",
    "\n",
    "A5. \n",
    "1. Amazon EC2 (Elastic Cloud Compute)\n",
    "Amazon EC2 is the fastest cloud computing service provided by AWS. It offers virtual, secure, reliable, and resizable servers for any workload. Through this service, it becomes easy for developers to access resources and also facilitates web-scale cloud computing. This comes with the best suitable processors, networking facilities, and storage systems. Developers can quickly and dynamically scale capacities as per business needs. It has over 500 instances and you can also choose the latest processor, operating system, storage, and networking to help you choose according to the needs of the business. Also, with Amazon EC2, you only have to pay for what you use, and also as per the time period, scale with amazon EC2 auto-scaling has optimal storage and can optimize CPU configurations.\n",
    "\n",
    "2. Amazon RDS (Relational Database Services) \n",
    "Amazon RDS (Relational Database Service) is another service provided by AWS which is a managed database for PostgreSQL, MariaDB, MySQL, and Oracle. Using Amazon RDS, you can set up, operate, and scale databases in the cloud. It provides high performance by automating the tasks like database setup, hardware provisioning, patching, and backups. Also, it helps in cost optimization by providing high availability, compatibility, and security for resources, and there’s no need to install and manage the database software. during its usage. As per the need, you can easily choose any engine out of 15+ engines some of them being MySQL, PostgreSQL, Oracle, etc. It is a highly secure and easily available AWS service.\n",
    "\n",
    "3. Amazon S3 (Simple Storage Service)\n",
    "With Amazon, it has become easy to store data anytime, anywhere. Amazon S3 (Simple Storage Service), one of the best services provided by AWS is an object storage service offering scalability, availability, security, and high-performing. You can also retrieve data, data here is stored in “storage classes” where there’s no requirement of extra investment and you can also manage it well. Amazon S3 is the perfect fit for big businesses where a large amount of data is managed for varied purposes. It comes with handling any volume of data with its robust access controls, and replication tools prevent accidental deletion, and also maintains data version controls. \n",
    "\n",
    "4. Amazon IAM (Identity and Access Management)\n",
    "Amazon IAM (Identity and Access Management) allows users to securely access and manage resources. To achieve complete access to the tools and resources provided by AWS, AWS IAM is the best AWS service. It gives you the right to have control over who has authorization (signed in) and authentication (has permissions) access to the resources. It comes with attribute-based access control which helps you to create separate permissions on the basis of the user’s attributes such as job role, department, etc. Through this, you can allow or deny access given to users. AWS IAM has complete access or is a central manager for refining permissions across AWS. He/She handles who can access what.\n",
    "\n",
    "5. Amazon EBS (Elastic Block Store)\n",
    "Amazon EBS is the next service provided by AWS which is a block storage solution specifically designed for Amazon EC2. Throughout a workload of any size, Amazon EBS helps to securely manage transactions. You can handle diverse workloads, be it relational, non-relational, or business applications. You get to choose between five different volume types so as to achieve effectiveness and optimum cost. It helps to resize workloads for big data analytics engines such as Hadoop and Spark. Its lifecycle management creates policies to create and manage backups effectively. It supports high-performance scaling workloads such as Microsoft, and SAP products. \n",
    "\n",
    "6. Amazon Lambda\n",
    "Another promising service by AWS is Amazon Lambda which is a serverless and event-driven computing service that lets you run code for virtual applications or backend services automatically. You need to worry about servers and clusters when working with solutions using Amazon Lambda. It is also cost-effective where you have to only pay for the services you use. As a user, your responsibility is to just upload the code and Lambda handles the rest. Using Lambda, you get precise software scaling and extensive availability. With hundreds to thousands of workloads per second, AWS Lambda responsibly handles code execution requests. It is one of the best services provided by AWS for developers.\n",
    "\n",
    "7. Amazon EFS (Elastic File System)\n",
    "Amazon EFS (Elastic File System) is a simple and serverless system where you can create and configure file systems without provisioning, deploying, patching, and maintaining. It is a scalable NFS file system made for use in AWS cloud services and on-premises resources. Also, it has no minimum fee or setup charge. You pay for the storage you use such as – \n",
    "\n",
    "for provisioned throughput\n",
    "automatically expand and shrink as per the addition and removal of files\n",
    "read and write access to data stored in Infrequent Access storage classes\n",
    "It is a scalable service where you can scale up to petabytes without thinking about the performance of the application. \n",
    "\n",
    "8. Amazon CloudFront\n",
    "Amazon CloudFront is an AWS service for content delivery networks, it delivers content globally, offering high performance and security and also at high transfer speeds and low latency(rate of time). It uses automated network mapping and intelligent routing mechanisms for delivering content to the destination. It has edge locations (worldwide network of data centers) used during content delivery. Using traffic encryptions and access controls, you can also enhance the security of data. It seamlessly integrates with systems like Amazon S3, Amazon EC2, and Lambda to manage custom code. Also, there’s no additional data transfer fee when connected with Amazon S3 and Amazon EC2."
   ]
  }
 ],
 "metadata": {
  "kernelspec": {
   "display_name": "Python 3 (ipykernel)",
   "language": "python",
   "name": "python3"
  },
  "language_info": {
   "codemirror_mode": {
    "name": "ipython",
    "version": 3
   },
   "file_extension": ".py",
   "mimetype": "text/x-python",
   "name": "python",
   "nbconvert_exporter": "python",
   "pygments_lexer": "ipython3",
   "version": "3.10.9"
  }
 },
 "nbformat": 4,
 "nbformat_minor": 5
}
