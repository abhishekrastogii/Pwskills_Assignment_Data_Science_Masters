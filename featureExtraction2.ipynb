{
 "cells": [
  {
   "cell_type": "markdown",
   "id": "e928b6b9-9ed9-4dbb-8bdf-031bdfab0baa",
   "metadata": {},
   "source": [
    "# Q1. What is Min-Max scaling, and how is it used in data preprocessing? Provide an example to illustrate its application.\n",
    "\n",
    "**Min-Max Scaling**, also known as normalization, is a feature scaling technique that transforms data to a specific range, usually between 0 and 1. It subtracts the minimum value and divides by the range (difference between the maximum and minimum value) for each feature, ensuring that all features are on the same scale.\n",
    "\n",
    "### Formula:\n",
    "$$\n",
    "X_{\\text{scaled}} = \\frac{X - X_{\\text{min}}}{X_{\\text{max}} - X_{\\text{min}}}\n",
    "$$\n",
    "\n",
    "### Example:\n",
    "Consider a feature with values: [10, 20, 30, 40, 50].\n",
    "\n",
    "- Minimum value (\\(X_{\\text{min}}\\)) = 10\n",
    "- Maximum value (\\(X_{\\text{max}}\\)) = 50\n",
    "\n",
    "For the value of 30, the Min-Max scaled value would be:\n",
    "\n",
    "$$\n",
    "X_{\\text{scaled}} = \\frac{30 - 10}{50 - 10} = \\frac{20}{40} = 0.5\n",
    "$$\n",
    "\n",
    "So, 30 would be scaled to 0.5, and all values will be transformed to the range [0, 1].\n",
    "\n",
    "---\n",
    "\n",
    "# Q2. What is the Unit Vector technique in feature scaling, and how does it differ from Min-Max scaling? Provide an example to illustrate its application.\n",
    "\n",
    "The **Unit Vector** technique, also called normalization to unit norm, scales each data point so that its norm (magnitude) is 1. This is useful in applications where the direction of the feature vector is more important than its magnitude (e.g., text classification or clustering).\n",
    "\n",
    "### Formula:\n",
    "$$\n",
    "X_{\\text{unit\\_norm}} = \\frac{X}{||X||}\n",
    "$$\n",
    "Where \\(||X||\\) is the Euclidean norm of the vector (i.e., \\( \\sqrt{x_1^2 + x_2^2 + \\dots + x_n^2} \\)).\n",
    "\n",
    "### Difference from Min-Max Scaling:\n",
    "- **Min-Max scaling** transforms the feature into a specified range (e.g., [0, 1]).\n",
    "- **Unit Vector scaling** focuses on making the vector have a unit norm, preserving the direction but not\n"
   ]
  },
  {
   "cell_type": "code",
   "execution_count": null,
   "id": "603fb7d2-37fa-4731-97bc-7b0c6856847f",
   "metadata": {},
   "outputs": [],
   "source": []
  }
 ],
 "metadata": {
  "kernelspec": {
   "display_name": "Python 3 (ipykernel)",
   "language": "python",
   "name": "python3"
  },
  "language_info": {
   "codemirror_mode": {
    "name": "ipython",
    "version": 3
   },
   "file_extension": ".py",
   "mimetype": "text/x-python",
   "name": "python",
   "nbconvert_exporter": "python",
   "pygments_lexer": "ipython3",
   "version": "3.12.4"
  }
 },
 "nbformat": 4,
 "nbformat_minor": 5
}
