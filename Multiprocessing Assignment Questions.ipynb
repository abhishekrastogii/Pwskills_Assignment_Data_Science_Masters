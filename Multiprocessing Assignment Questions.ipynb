{
 "cells": [
  {
   "cell_type": "markdown",
   "id": "8138afe4",
   "metadata": {},
   "source": [
    "Multiprocessing\n",
    "Assignment Questions"
   ]
  },
  {
   "cell_type": "code",
   "execution_count": null,
   "id": "f4b52a56",
   "metadata": {},
   "outputs": [],
   "source": [
    "Q1. What is multiprocessing in python? Why is it useful?\n",
    "Q2. What are the differences between multiprocessing and multithreading?\n",
    "Q3. Write a python code to create a process using the multiprocessing module.\n",
    "Q4. What is a multiprocessing pool in python? Why is it used?\n",
    "Q5. How can we create a pool of worker processes in python using the multiprocessing module?\n",
    "Q6. Write a python program to create 4 processes, each process should print a different number using the\n",
    "multiprocessing module in python."
   ]
  },
  {
   "cell_type": "code",
   "execution_count": null,
   "id": "6773489a",
   "metadata": {},
   "outputs": [],
   "source": [
    "Q1. What is multiprocessing in python? Why is it useful?\n",
    "\n",
    "A1. Multiprocessing in Python is a built-in package that allows the system to run multiple processes simultaneously.\n",
    "    It is used to break applications into smaller threads that can run independently. The multiprocessing package \n",
    "    supports concurrency in both local and remote types, allowing you to bypass the global interpreter lock that \n",
    "    comes with threading. This allows the programmer to fully leverage multiple processors on a given machine"
   ]
  },
  {
   "cell_type": "code",
   "execution_count": null,
   "id": "dec07345",
   "metadata": {},
   "outputs": [],
   "source": [
    "Q2. What are the differences between multiprocessing and multithreading?\n",
    "\n",
    "A2. The difference between multithreading and multiprocessing is:\n",
    "    \n",
    "      1  Multithreading creates multiple threads of a single process to run parallelly, while multiprocessing uses two or\n",
    "        more CPUs to run multiple processes concurrently.\n",
    "      2  Multithreading is suitable for input/output operations and waiting times, while multiprocessing is ideal for \n",
    "        computationally complex tasks.\n",
    "      3  Multithreading enhances the performance of the system, while multiprocessing increases the computing power of the\n",
    "        system.\n",
    "      4  Multithreading does not improve the reliability of the system, while multiprocessing does."
   ]
  },
  {
   "cell_type": "code",
   "execution_count": 1,
   "id": "bd5a1fe8",
   "metadata": {},
   "outputs": [
    {
     "name": "stdout",
     "output_type": "stream",
     "text": [
      "Done!\n"
     ]
    }
   ],
   "source": [
    "# Q3. Write a python code to create a process using the multiprocessing module.\n",
    "\n",
    "# A3. \n",
    "\n",
    "# importing the multiprocessing module\n",
    "import multiprocessing\n",
    "\n",
    "def print_cube(num):\n",
    "    print(\"Cube: {}\".format(num * num * num))\n",
    "\n",
    "def print_square(num):\n",
    "    print(\"Square: {}\".format(num * num))\n",
    "\n",
    "if __name__ == \"__main__\":\n",
    "    p1 = multiprocessing.Process(target=print_square, args=(10, ))\n",
    "    p2 = multiprocessing.Process(target=print_cube, args=(10, ))\n",
    "\n",
    "    p1.start()\n",
    "    p2.start()\n",
    "\n",
    "    p1.join()\n",
    "    p2.join()\n",
    "\n",
    "    print(\"Done!\")\n"
   ]
  },
  {
   "cell_type": "code",
   "execution_count": null,
   "id": "21960100",
   "metadata": {},
   "outputs": [],
   "source": [
    "Q4. What is a multiprocessing pool in python? Why is it used?\n",
    "\n",
    "A4. A multiprocessing pool in Python is a process pool that allows tasks to be submitted as functions to the process pool\n",
    "    to be executed concurrently. It provides a convenient means of parallelizing the execution of a function across\n",
    "    multiple input values, distributing the input data across processes. The pool allows you to do multiple jobs per\n",
    "    process, which may make it easier to parallelize your program1. The multiprocessing pool is used when tasks are \n",
    "    independent and not dependent on other tasks that could execute at the same time"
   ]
  },
  {
   "cell_type": "code",
   "execution_count": null,
   "id": "5ead755b",
   "metadata": {},
   "outputs": [],
   "source": [
    "Q5. How can we create a pool of worker processes in python using the multiprocessing module?\n",
    "\n",
    "A5. To create a pool of worker processes in Python using the multiprocessing module, you can follow these steps:-\n",
    "    \n",
    "     1   Import the module.\n",
    "     2   Define a worker function that will perform the desired tasks.\n",
    "     3   Create an input data list that contains the data for each task.\n",
    "     4   Create a object with the desired number of worker processes.\n",
    "     5   Use the function to pass the worker function and input data list to the ."
   ]
  },
  {
   "cell_type": "code",
   "execution_count": null,
   "id": "30d409d4",
   "metadata": {},
   "outputs": [],
   "source": [
    "# Q6. Write a python program to create 4 processes, each process should print a different number using the\n",
    "# multiprocessing module in python.\n",
    "\n",
    "# A6. \n",
    "import time\n",
    "from multiprocessing import Pool\n",
    "from multiprocessing import Process, current_process\n",
    "def f(number):\n",
    "    result=4*number\n",
    "    Process_name=current_process().name\n",
    "    print(f\"Poolworker -{Process_name} output: {result} \")\n",
    "\n",
    "    return result\n",
    "\n",
    "if __name__=='__main__':\n",
    "    p= Pool(processes=10)\n",
    "    numbers=[0,1,2,3,4,5]\n",
    "    result=p.map(f,numbers)"
   ]
  },
  {
   "cell_type": "code",
   "execution_count": null,
   "id": "eafa187b",
   "metadata": {},
   "outputs": [],
   "source": []
  }
 ],
 "metadata": {
  "kernelspec": {
   "display_name": "Python 3 (ipykernel)",
   "language": "python",
   "name": "python3"
  },
  "language_info": {
   "codemirror_mode": {
    "name": "ipython",
    "version": 3
   },
   "file_extension": ".py",
   "mimetype": "text/x-python",
   "name": "python",
   "nbconvert_exporter": "python",
   "pygments_lexer": "ipython3",
   "version": "3.10.9"
  }
 },
 "nbformat": 4,
 "nbformat_minor": 5
}
