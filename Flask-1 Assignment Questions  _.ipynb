{
 "cells": [
  {
   "cell_type": "markdown",
   "id": "b25e5122",
   "metadata": {},
   "source": [
    "Flask-1\n",
    "Assignment Questions"
   ]
  },
  {
   "cell_type": "code",
   "execution_count": null,
   "id": "bc737b0d",
   "metadata": {},
   "outputs": [],
   "source": [
    "Q1. What is Flask Framework? What are the advantages of Flask Framework?\n",
    "\n",
    "Q2. Create a simple Flask application to display ‘Hello World!!’. Attach the screenshot of the output in \n",
    "Jupyter Notebook.\n",
    "\n",
    "Q3. What is App routing in Flask? Why do we use app routes?\n",
    "Q4.  Create a “/welcome” route to display the welcome message “Welcome to ABC Corporation” and a “/” \n",
    "route to show the following details:\n",
    "\n",
    "    Company Name: ABC Corporation\n",
    "\n",
    "    Location: India\n",
    "\n",
    "    Contact Detail: 999-999-9999 \n",
    "\n",
    "\n",
    "Attach the screenshot of the output in Jupyter Notebook.\n",
    "Q5. What function is used in Flask for URL Building? Write a Python code to demonstrate the working of the \n",
    "url_for() function"
   ]
  },
  {
   "cell_type": "code",
   "execution_count": null,
   "id": "4def535e",
   "metadata": {},
   "outputs": [],
   "source": [
    "Q1. What is Flask Framework? What are the advantages of Flask Framework?\n",
    "\n",
    "A1. Flask is a python web framework that is used for developing web applications.\n",
    "    The advantages of using Flask framework are:\n",
    "        \n",
    "      1  Built-in development server and a fast debugger provided.\n",
    "      2  Lightweight.\n",
    "      3  Secure cookies are supported.\n",
    "      4  Templating using Jinja2.\n",
    "      5  Request dispatching using REST."
   ]
  },
  {
   "cell_type": "code",
   "execution_count": null,
   "id": "8d2a96c9",
   "metadata": {},
   "outputs": [],
   "source": [
    "Q2. Create a simple Flask application to display ‘Hello World!!’. Attach the screenshot of the output in \n",
    "Jupyter Notebook.\n",
    "\n",
    "A2. Building a Hello World App\n",
    "\n",
    "1. Import Flask and create a Flask app object The first thing we do in the file is to import Flask from flask import Flask\n",
    "    Then we create a Flask app object: ...\n",
    "2. Write the code to print hello world ...\n",
    "3. Make the server run on a specific port ...\n",
    "4. Complete code for hello world app in Flask ...\n",
    "5. Run the Hello World App "
   ]
  },
  {
   "cell_type": "code",
   "execution_count": 2,
   "id": "569e9309",
   "metadata": {},
   "outputs": [],
   "source": [
    "pip install Flask\n",
    "from flask import Flask\n",
    "app = Flask(__name__)\n",
    "\n",
    "@app.route(\"/\")\n",
    "    def hello():\n",
    "        return \"Hello World!\"\n",
    "if __name__ == \"__main__\":\n",
    "    app.run()"
   ]
  },
  {
   "cell_type": "code",
   "execution_count": null,
   "id": "0d5e8f35",
   "metadata": {},
   "outputs": [],
   "source": [
    "Q3. What is App routing in Flask? Why do we use app routes?\n",
    "\n",
    "A3. App routing is used to map the specific URL with the associated function that is intended to perform some task.\n",
    "    The routing technique helps a user remember application URLs and is useful to access the desired page directly\n",
    "    without having to navigate from the home page. The route () decorator in Flask is used to bind URL to a function."
   ]
  },
  {
   "cell_type": "code",
   "execution_count": null,
   "id": "3965ca53",
   "metadata": {},
   "outputs": [],
   "source": [
    "Q4.  Create a “/welcome” route to display the welcome message “Welcome to ABC Corporation” and a “/” \n",
    "route to show the following details:\n",
    "\n",
    "    Company Name: ABC Corporation\n",
    "\n",
    "    Location: India\n",
    "\n",
    "    Contact Detail: 999-999-9999 \n",
    "        \n",
    "A4. \n",
    "\n",
    "from flask import Flask\n",
    "\n",
    "app = Flask(__name__)\n",
    "\n",
    "@app.route('/')\n",
    "def index():\n",
    "    return \"\"\"\n",
    "    Company Name: ABC Corporation\n",
    "    Location: India\n",
    "    Contact Detail: 999-999-9999\n",
    "    \"\"\"\n",
    "\n",
    "@app.route('/welcome')\n",
    "def welcome():\n",
    "    return \"Welcome to ABC Corporation\"\n",
    "\n",
    "if __name__ == '__main__':\n",
    "    app.run()"
   ]
  },
  {
   "cell_type": "code",
   "execution_count": null,
   "id": "186ab1bc",
   "metadata": {},
   "outputs": [],
   "source": [
    "Q5. What function is used in Flask for URL Building? Write a Python code to demonstrate the working of the \n",
    "url_for() function\n",
    "\n",
    "A5. It takes keyword arguments for the variables:\n",
    "\n",
    "url_for('add', variable=foo)\n",
    "url_for('remove', variable=foo)\n",
    "\n",
    "The flask-server would have functions:\n",
    "\n",
    "@app.route('/<variable>/add', methods=['GET', 'POST'])\n",
    "def add(variable):\n",
    "\n",
    "@app.route('/<variable>/remove', methods=['GET', 'POST'])\n",
    "def remove(variable):"
   ]
  },
  {
   "cell_type": "markdown",
   "id": "2d68d4e3",
   "metadata": {},
   "source": [
    "# THANKYOU"
   ]
  }
 ],
 "metadata": {
  "kernelspec": {
   "display_name": "Python 3 (ipykernel)",
   "language": "python",
   "name": "python3"
  },
  "language_info": {
   "codemirror_mode": {
    "name": "ipython",
    "version": 3
   },
   "file_extension": ".py",
   "mimetype": "text/x-python",
   "name": "python",
   "nbconvert_exporter": "python",
   "pygments_lexer": "ipython3",
   "version": "3.10.9"
  }
 },
 "nbformat": 4,
 "nbformat_minor": 5
}
