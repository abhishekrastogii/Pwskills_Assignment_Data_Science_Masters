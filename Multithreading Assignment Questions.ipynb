{
 "cells": [
  {
   "cell_type": "markdown",
   "id": "6550d1aa",
   "metadata": {},
   "source": [
    "Multithreading\n",
    "Assignment Questions"
   ]
  },
  {
   "cell_type": "code",
   "execution_count": null,
   "id": "38a1c281",
   "metadata": {},
   "outputs": [],
   "source": [
    "Q1. What is multithreading in python? Why is it used? Name the module used to handle threads in python\n",
    "Q2. Why threading module used? Write the use of the following functions\n",
    "    activeCount\n",
    "    currentThread\n",
    "    enumerate\n",
    "Q3. Explain the following functions\n",
    "     run\n",
    "     start\n",
    "     join\n",
    "     isAlive\n",
    "Q4. Write a python program to create two threads. Thread one must print the list of squares and thread\n",
    "    two must print the list of cubes\n",
    "Q5. State advantages and disadvantages of multithreading\n",
    "Q6. Explain deadlocks and race conditions."
   ]
  },
  {
   "cell_type": "code",
   "execution_count": null,
   "id": "5d50caa9",
   "metadata": {},
   "outputs": [],
   "source": [
    "Q1. What is multithreading in python? Why is it used? Name the module used to handle threads in python\n",
    "\n",
    "A1. Before learning multithreading, let us see what does the word ‘thread’ means.\n",
    "    A process in a computer/laptop is an instance of the program being executed. A process contains the program \n",
    "    to be executed, the corresponding variables, and its state during the execution.\n",
    "    A thread is a sequence of instructions that an operating system can execute independently. It can be thought\n",
    "    of as the smallest unit of the process."
   ]
  },
  {
   "cell_type": "code",
   "execution_count": 1,
   "id": "7ca9d424",
   "metadata": {},
   "outputs": [
    {
     "name": "stdout",
     "output_type": "stream",
     "text": [
      "0\n",
      "2\n",
      "4\n",
      "6\n",
      "8\n",
      "10\n",
      "12\n",
      "14\n",
      "16\n",
      "18\n",
      "1\n",
      "3\n",
      "5\n",
      "7\n",
      "9\n",
      "11\n",
      "13\n",
      "15\n",
      "17\n",
      "19\n",
      "End\n"
     ]
    }
   ],
   "source": [
    "import threading\n",
    "\n",
    "def even():#creating second function\n",
    "    for i in range(0,20,2):\n",
    "        print(i)\n",
    "def odd():\n",
    "    for i in range(1,20,2):\n",
    "        print(i)\n",
    "\n",
    "# creating a thread for each function\n",
    "trd1 = threading.Thread(target=even)\n",
    "trd2 = threading.Thread(target=odd)\n",
    "\n",
    "trd1.start() # starting the thread 1 \n",
    "\n",
    "trd2.start() # starting the thread 2\n",
    "\n",
    "print('End')"
   ]
  },
  {
   "cell_type": "code",
   "execution_count": null,
   "id": "6a3f173e",
   "metadata": {},
   "outputs": [],
   "source": [
    "Q2. Why threading module used? Write the use of the following functions\n",
    "    activeCount\n",
    "    currentThread\n",
    "    enumerate"
   ]
  },
  {
   "cell_type": "code",
   "execution_count": 5,
   "id": "50e51df3",
   "metadata": {},
   "outputs": [
    {
     "name": "stdout",
     "output_type": "stream",
     "text": [
      "No. of active threads:  8\n"
     ]
    }
   ],
   "source": [
    "# A2. \n",
    "# (a)\n",
    "threading.active_count() #Function\n",
    "# This function returns the number of Thread objects currently alive.\n",
    "\n",
    "import time\n",
    "import threading\n",
    "\n",
    "def thread1(i):\n",
    "    time.sleep(3)\n",
    "    #print('No. printed by Thread 1: %d' %i)\n",
    "\n",
    "def thread2(i):\n",
    "    time.sleep(3)\n",
    "    #print('No. printed by Thread 2: %d' %i)\n",
    "\n",
    "if __name__ == '__main__':\n",
    "    t1 = threading.Thread(target=thread1, args=(10,))\n",
    "    t2 = threading.Thread(target=thread2, args=(12,))\n",
    "    t1.start()\n",
    "    t2.start()\n",
    "    print(\"No. of active threads: \", threading.active_count())\n",
    "    t1.join()\n",
    "    t2.join()"
   ]
  },
  {
   "cell_type": "code",
   "execution_count": 7,
   "id": "da2b4498",
   "metadata": {},
   "outputs": [
    {
     "name": "stdout",
     "output_type": "stream",
     "text": [
      "Current thread is:  <_MainThread(MainThread, started 9344)>\n"
     ]
    }
   ],
   "source": [
    "#A2.\n",
    "#(b)\n",
    "threading.current_thread()\n",
    "# This function will return the current Thread object, corresponding to the caller's thread of control\n",
    "# (which is in the control of caller currently). If the caller's thread of control was not created through\n",
    "# the threading module(for example the main thread), then a dummy thread object with limited functionality is returned.\n",
    "\n",
    "import time\n",
    "import threading\n",
    "\n",
    "def thread1(i):\n",
    "    time.sleep(3)\n",
    "    #print('No. printed by Thread 1: %d' %i)\n",
    "\n",
    "def thread2(i):\n",
    "    time.sleep(3)\n",
    "    #print('No. printed by Thread 2: %d' %i)\n",
    "\n",
    "if __name__ == '__main__':\n",
    "    t1 = threading.Thread(target=thread1, args=(10,))\n",
    "    t2 = threading.Thread(target=thread2, args=(12,))\n",
    "    t1.start()\n",
    "    t2.start()\n",
    "    print(\"Current thread is: \", threading.current_thread())\n",
    "    t1.join()\n",
    "    t2.join()"
   ]
  },
  {
   "cell_type": "code",
   "execution_count": 8,
   "id": "3bb7c58e",
   "metadata": {},
   "outputs": [
    {
     "data": {
      "text/plain": [
       "[<_MainThread(MainThread, started 9344)>,\n",
       " <Thread(IOPub, started daemon 16600)>,\n",
       " <Heartbeat(Heartbeat, started daemon 17388)>,\n",
       " <ControlThread(Control, started daemon 9512)>,\n",
       " <HistorySavingThread(IPythonHistorySavingThread, started 12684)>,\n",
       " <ParentPollerWindows(Thread-4, started daemon 5884)>]"
      ]
     },
     "execution_count": 8,
     "metadata": {},
     "output_type": "execute_result"
    }
   ],
   "source": [
    "#A2.\n",
    "#(c)\n",
    "threading.enumerate()\n",
    "# This method returns a list of all Thread objects currently alive. The list includes daemonic threads\n",
    "# (when the program quits, all the daemon threads associated with it are killed automatically),\n",
    "# dummy thread objects created by the current thread, and the main thread.\n",
    "# Terminated threads and threads that have not yet been started are not present in this list.\n",
    "\n",
    "threading.enumerate()"
   ]
  },
  {
   "cell_type": "code",
   "execution_count": null,
   "id": "30cb900f",
   "metadata": {},
   "outputs": [],
   "source": [
    "Q3. Explain the following functions\n",
    "    a. run\n",
    "    b. start\n",
    "    c. join\n",
    "    d. isAlive\n",
    "    \n",
    "A3. run () − The run () method is the entry point for a thread.\n",
    "    start () − The start () method starts a thread by calling the run method.\n",
    "    join ( [time]) − The join () waits for threads to terminate.\n",
    "    isAlive () − The isAlive () method checks whether a thread is still executing."
   ]
  },
  {
   "cell_type": "code",
   "execution_count": null,
   "id": "1463f4fa",
   "metadata": {},
   "outputs": [],
   "source": [
    "Q4. Write a python program to create two threads. Thread one must print the list of squares and thread\n",
    "    two must print the list of cubes.\n",
    "    \n",
    "A4. "
   ]
  },
  {
   "cell_type": "code",
   "execution_count": 9,
   "id": "42d47fc4",
   "metadata": {},
   "outputs": [
    {
     "name": "stdout",
     "output_type": "stream",
     "text": [
      "Square: 100\n",
      "Cube: 1000\n",
      "Done!\n"
     ]
    }
   ],
   "source": [
    "import threading\n",
    "def print_cube(num):\n",
    "    print(\"Cube: {}\" .format(num * num * num))\n",
    "\n",
    "def print_square(num):\n",
    "    print(\"Square: {}\" .format(num * num))\n",
    "\n",
    "if __name__ ==\"__main__\":\n",
    "    t1 = threading.Thread(target=print_square, args=(10,))\n",
    "    t2 = threading.Thread(target=print_cube, args=(10,))\n",
    "\n",
    "    t1.start()\n",
    "    t2.start()\n",
    "    t1.join()\n",
    "    t2.join()\n",
    "    \n",
    "    print(\"Done!\")"
   ]
  },
  {
   "cell_type": "code",
   "execution_count": null,
   "id": "2ed2df56",
   "metadata": {},
   "outputs": [],
   "source": [
    "Q5. State advantages and disadvantages of multithreading\n",
    "A5. \n",
    "\n",
    "Advantages of Multithreading:\n",
    "   1 Multithreading can improve the performance and efficiency of a program by utilizing the available CPU resources more\n",
    "    effectively. Executing multiple threads concurrently, it can take advantage of parallelism and reduce overall\n",
    "    execution time.\n",
    "   2 Multithreading can enhance responsiveness in applications that involve user interaction. By separating time-consuming\n",
    "    tasks from the main thread, the user interface can remain responsive and not freeze or become unresponsive.\n",
    "   3 Multithreading can enable better resource utilization. For example, in a server application, multiple threads can handle\n",
    "    incoming client requests simultaneously, allowing the server to serve more clients concurrently.\n",
    "    \n",
    "Disadvantages of Multithreading:\n",
    "Multithreading is complex and many times difficult to handle. It has a few drawbacks. These are:\n",
    "\n",
    "   1 If you don’t make use of the locking mechanisms properly, while investigating data access issues there is a chance of\n",
    "    problems arising like data inconsistency and dead-lock.\n",
    "   2 If many threads try to access the same data, then there is a chance that the situation of thread starvation may arise.\n",
    "    Resource contention issues are another problem that can trouble the user.\n",
    "   3 Display issues may occur if threads lack coordination when displaying data."
   ]
  },
  {
   "cell_type": "code",
   "execution_count": null,
   "id": "fa9c3c02",
   "metadata": {},
   "outputs": [],
   "source": [
    "Q6. Explain deadlocks and race conditions.\n",
    "A6. \n",
    "Race condition:-\n",
    "When two processes are competing with each other causing data corruption.\n",
    "\n",
    "Deadlock:-\n",
    "When two processes are waiting for each other directly or indirectly, it is called deadlock."
   ]
  }
 ],
 "metadata": {
  "kernelspec": {
   "display_name": "Python 3 (ipykernel)",
   "language": "python",
   "name": "python3"
  },
  "language_info": {
   "codemirror_mode": {
    "name": "ipython",
    "version": 3
   },
   "file_extension": ".py",
   "mimetype": "text/x-python",
   "name": "python",
   "nbconvert_exporter": "python",
   "pygments_lexer": "ipython3",
   "version": "3.10.9"
  }
 },
 "nbformat": 4,
 "nbformat_minor": 5
}
